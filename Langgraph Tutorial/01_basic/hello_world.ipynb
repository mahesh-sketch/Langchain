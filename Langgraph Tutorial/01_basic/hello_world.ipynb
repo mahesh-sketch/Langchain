{
 "cells": [
  {
   "cell_type": "code",
   "execution_count": 1,
   "id": "42520e53",
   "metadata": {},
   "outputs": [],
   "source": [
    "import os \n",
    "from dotenv import load_dotenv\n",
    "from langchain_google_genai import ChatGoogleGenerativeAI\n",
    "from langgraph.graph import StateGraph, END"
   ]
  },
  {
   "cell_type": "code",
   "execution_count": 2,
   "id": "4880250c",
   "metadata": {},
   "outputs": [],
   "source": [
    "load_dotenv()\n",
    "GOOGLE_API_KEY = os.getenv(\"GOOGLE_API_KEY\")\n",
    "\n",
    "llm = ChatGoogleGenerativeAI(model=\"gemini-2.0-flash\",api_key=GOOGLE_API_KEY)"
   ]
  },
  {
   "cell_type": "markdown",
   "id": "a9e9b51d",
   "metadata": {},
   "source": [
    "Define node function"
   ]
  },
  {
   "cell_type": "code",
   "execution_count": 3,
   "id": "fec6120f",
   "metadata": {},
   "outputs": [],
   "source": [
    "def llm_node(state):\n",
    "    input_text = state.input\n",
    "    response = llm.invoke(input_text)\n",
    "    return {\"Output\":response.content}"
   ]
  },
  {
   "cell_type": "markdown",
   "id": "bab8da97",
   "metadata": {},
   "source": [
    "Create a graph"
   ]
  },
  {
   "cell_type": "code",
   "execution_count": 4,
   "id": "229b21e7",
   "metadata": {},
   "outputs": [
    {
     "data": {
      "text/plain": [
       "<langgraph.graph.state.StateGraph at 0x254a36afc50>"
      ]
     },
     "execution_count": 4,
     "metadata": {},
     "output_type": "execute_result"
    }
   ],
   "source": [
    "from pydantic import BaseModel\n",
    "\n",
    "class MyState(BaseModel):\n",
    "\tinput: str\n",
    "\tOutput: str\n",
    "\n",
    "graph = StateGraph(state_schema=MyState)\n",
    "\n",
    "# add your node and transition\n",
    "graph.add_node(\"llm_call\", llm_node)\n",
    "graph.set_entry_point(\"llm_call\")\n",
    "graph.add_edge(\"llm_call\", END)"
   ]
  },
  {
   "cell_type": "code",
   "execution_count": 6,
   "id": "f289e4b9",
   "metadata": {},
   "outputs": [
    {
     "name": "stdout",
     "output_type": "stream",
     "text": [
      "The capital of France is **Paris**.\n"
     ]
    }
   ],
   "source": [
    "app = graph.compile()\n",
    "state = MyState(input=\"What is the capital of France ?\", Output=\"\")\n",
    "result = app.invoke(state)\n",
    "\n",
    "print(result['Output'])"
   ]
  }
 ],
 "metadata": {
  "kernelspec": {
   "display_name": "Python 3",
   "language": "python",
   "name": "python3"
  },
  "language_info": {
   "codemirror_mode": {
    "name": "ipython",
    "version": 3
   },
   "file_extension": ".py",
   "mimetype": "text/x-python",
   "name": "python",
   "nbconvert_exporter": "python",
   "pygments_lexer": "ipython3",
   "version": "3.11.9"
  }
 },
 "nbformat": 4,
 "nbformat_minor": 5
}
