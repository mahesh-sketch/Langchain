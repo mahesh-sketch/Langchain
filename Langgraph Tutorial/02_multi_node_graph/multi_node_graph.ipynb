{
 "cells": [
  {
   "cell_type": "markdown",
   "id": "c689beee",
   "metadata": {},
   "source": [
    "Real-Life Example: \"Email Assistant for Job Applications\"\n",
    "Scenario:\n",
    "\n",
    "- You have a virtual assistant that:\n",
    "\n",
    "1. Cleans up raw user input.\n",
    "2. Generates a professional email using Gemini.\n",
    "3. Optionally translates it if the user requests another language.\n",
    "\n",
    "Workflow (Graph) Design\n",
    "Nodes (functions):\n",
    "- clean_input – Clean spelling, punctuation, tone.\n",
    "- generate_email – Let Gemini generate a professional email.\n",
    "- translate_output – (Optional) Translate the email to a user-specified language.\n",
    "\n",
    "Edges (transitions):\n",
    "\n",
    "- From clean_input → generate_email\n",
    "- From generate_email → translate_output (if user requested)\n",
    "- Otherwise, → END"
   ]
  },
  {
   "cell_type": "code",
   "execution_count": 12,
   "id": "2664b431",
   "metadata": {},
   "outputs": [],
   "source": [
    "import os\n",
    "from dotenv import load_dotenv\n",
    "from langchain_google_genai import ChatGoogleGenerativeAI\n",
    "from langgraph.graph import StateGraph, END\n",
    "from pydantic import BaseModel\n",
    "from typing import Optional"
   ]
  },
  {
   "cell_type": "code",
   "execution_count": 13,
   "id": "8f53efed",
   "metadata": {},
   "outputs": [],
   "source": [
    "load_dotenv()\n",
    "GOOGLE_API_KEY = os.getenv(\"GOOGLE_API_KEY\")"
   ]
  },
  {
   "cell_type": "markdown",
   "id": "e1425e22",
   "metadata": {},
   "source": [
    "State class"
   ]
  },
  {
   "cell_type": "code",
   "execution_count": 14,
   "id": "5dafd117",
   "metadata": {},
   "outputs": [],
   "source": [
    "class EmailState(BaseModel):\n",
    "    raw_input: str\n",
    "    cleaned_input: Optional[str] = None\n",
    "    email: Optional[str] = None\n",
    "    translated_email: Optional[str] = None\n",
    "    target_language: Optional[str] = None"
   ]
  },
  {
   "cell_type": "markdown",
   "id": "82cb1890",
   "metadata": {},
   "source": [
    "Node Or Agents"
   ]
  },
  {
   "cell_type": "code",
   "execution_count": 15,
   "id": "1e81bd24",
   "metadata": {},
   "outputs": [],
   "source": [
    "# Clean Input Node\n",
    "def clean_input_node(state:EmailState):\n",
    "    # Simple preprocessing (placeholder for real NLP)\n",
    "    cleaned = state.raw_input.strip().capitalize()\n",
    "    updated_state_data = state.model_dump() # instead of dict() we use model_dump\n",
    "    updated_state_data['cleaned_input'] = cleaned\n",
    "    return EmailState(**updated_state_data)\n",
    "\n",
    "# Generate Email Node\n",
    "def generate_email_node(state:EmailState):\n",
    "    llm = ChatGoogleGenerativeAI(model=\"gemini-2.0-flash\",api_key=GOOGLE_API_KEY,temperature=0.7)\n",
    "    prompt = f\"Write a professional job application email based on this: '{state.cleaned_input}'\"\n",
    "    response = llm.invoke(prompt)\n",
    "    updated_state_data = state.model_dump()\n",
    "    updated_state_data['email'] = response.content\n",
    "    return EmailState(**updated_state_data)\n",
    "\n",
    "# Translate Output\n",
    "def translate_node(state:EmailState):\n",
    "    if not state.target_language:\n",
    "        return state # No translation needed\n",
    "    \n",
    "    llm = ChatGoogleGenerativeAI(model=\"gemini-2.0-flash\",api_key=GOOGLE_API_KEY,temperature=0.7)\n",
    "    prompt = f\"Translate this email to {state.target_language}:\\n{state.email}.\"\n",
    "    response = llm.invoke(prompt)\n",
    "    updated_state_data = state.model_dump()\n",
    "    updated_state_data['translated_email'] = response.content\n",
    "    return EmailState(**updated_state_data)\n",
    "\n",
    "# Condition Function\n",
    "def should_translate(state:EmailState):\n",
    "    return \"translate_output\" if state.target_language else END"
   ]
  },
  {
   "cell_type": "markdown",
   "id": "40bb4bdb",
   "metadata": {},
   "source": [
    "Build the Graph"
   ]
  },
  {
   "cell_type": "code",
   "execution_count": 16,
   "id": "75dc6cdd",
   "metadata": {},
   "outputs": [],
   "source": [
    "graph = StateGraph(state_schema=EmailState)\n",
    "\n",
    "graph.add_node(\"clean_input\", clean_input_node)\n",
    "graph.add_node(\"generate_email\", generate_email_node)\n",
    "graph.add_node(\"translate_output\",translate_node)\n",
    "\n",
    "# Transitions\n",
    "graph.set_entry_point(\"clean_input\")\n",
    "graph.add_edge(\"clean_input\", \"generate_email\")\n",
    "graph.add_conditional_edges(\"generate_email\",should_translate,{\n",
    "    \"translate_output\":\"translate_output\",\n",
    "    END:END\n",
    "})\n",
    "graph.add_edge(\"translate_output\",END)\n",
    "\n",
    "app = graph.compile()\n"
   ]
  },
  {
   "cell_type": "markdown",
   "id": "22a41e2f",
   "metadata": {},
   "source": [
    "Test the Graph"
   ]
  },
  {
   "cell_type": "code",
   "execution_count": 17,
   "id": "b44d934e",
   "metadata": {},
   "outputs": [
    {
     "name": "stdout",
     "output_type": "stream",
     "text": [
      "📧 Final Email:\n",
      " Subject: Application for Frontend Developer Position - [Your Name]\n",
      "\n",
      "Dear Google Hiring Team,\n",
      "\n",
      "I am writing to express my strong interest in Frontend Developer positions at Google, as advertised on [mention where you saw the advertisement - e.g., Google Careers website, LinkedIn, etc.]. I have been consistently impressed by Google's commitment to innovation and user-centric design, and I am confident that my skills and experience align well with your team's objectives.\n",
      "\n",
      "For [Number] years, I have been working as a Frontend Developer, building and maintaining engaging and performant web applications. My expertise lies in [List 2-3 key skills and technologies - e.g., React, Angular, Vue.js, JavaScript (ES6+), HTML5, CSS3]. I have a proven track record of success in [Mention 1-2 key achievements or projects - e.g., developing responsive user interfaces, optimizing website performance, contributing to open-source projects].\n",
      "\n",
      "In my previous role at [Previous Company Name], I was responsible for [Briefly describe your responsibilities and accomplishments]. I particularly enjoyed [Mention a specific aspect of your previous role that aligns with Google's values or the specific requirements of the frontend developer role].\n",
      "\n",
      "I am a highly motivated and collaborative individual with a passion for creating exceptional user experiences. I am eager to learn new technologies and contribute to a team that is pushing the boundaries of web development.\n",
      "\n",
      "My resume, attached for your review, provides further details on my qualifications and experience. I am eager to learn more about this opportunity and discuss how my skills can benefit Google. Thank you for your time and consideration.\n",
      "\n",
      "Sincerely,\n",
      "\n",
      "[Your Name]\n",
      "\n",
      "[Your Phone Number]\n",
      "\n",
      "[Your Email Address]\n",
      "\n",
      "[Link to your LinkedIn Profile (Optional)]\n",
      "\n",
      "[Link to your Portfolio/GitHub Profile (Optional)]\n",
      "\n",
      "**Key improvements and considerations:**\n",
      "\n",
      "* **Specificity is Key:**  This is a template.  You *must* customize it to be effective.  Don't just send this generic email.\n",
      "* **Subject Line:** Clear and concise, making it easy for recruiters to identify your application.\n",
      "* **Personalization:** Mention where you saw the job posting.  This shows you've done your research.  If you know the hiring manager's name, address the email to them directly.\n",
      "* **Quantifiable Achievements:** Replace bracketed information with *specific, quantifiable* accomplishments.  Instead of \"developing responsive user interfaces,\" say \"Developed responsive user interfaces for [Project Name], resulting in a 15% increase in mobile user engagement.\"\n",
      "* **Keywords:**  Tailor the skills and technologies mentioned to match the specific requirements of the job description.  Google uses Applicant Tracking Systems (ATS) that scan for keywords.\n",
      "* **Google's Values:**  Research Google's mission and values and subtly incorporate them into your email.  Show that you understand their culture.  For example, if Google emphasizes innovation, mention a time you implemented a novel solution.\n",
      "* **Portfolio/GitHub:**  If you have a portfolio or GitHub profile, include a link.  This allows recruiters to see your work directly.\n",
      "* **Proofread:**  Carefully proofread your email for any errors in grammar or spelling.  A mistake can make a negative impression.\n",
      "* **Attachment:**  Ensure your resume is attached in a widely compatible format (PDF is preferred).\n",
      "\n",
      "By customizing this template with your specific skills, experience, and a genuine interest in Google, you'll significantly increase your chances of landing an interview. Good luck!\n"
     ]
    }
   ],
   "source": [
    "state = EmailState(raw_input=\"i want to apply for frontend dev job at google\",target_language=None)\n",
    "result = app.invoke(state)\n",
    "\n",
    "print(\"📧 Final Email:\\n\",result['email'])"
   ]
  },
  {
   "cell_type": "markdown",
   "id": "e2d04d66",
   "metadata": {},
   "source": [
    "Translate to french"
   ]
  },
  {
   "cell_type": "code",
   "execution_count": 19,
   "id": "3e52a78b",
   "metadata": {},
   "outputs": [
    {
     "name": "stdout",
     "output_type": "stream",
     "text": [
      "📧 Final Email (French):\n",
      " Here's the French translation of the email, incorporating the improvements and considerations you outlined:\n",
      "\n",
      "**Objet : Candidature Développeur Frontend - [Your Name]**\n",
      "\n",
      "Cher(ère) équipe de recrutement Google,\n",
      "\n",
      "Je vous écris pour vous faire part de mon vif intérêt pour les postes de Développeur Frontend chez Google, tels que ceux annoncés sur [Platform where you saw the advertisement - e.g., Google Careers website, LinkedIn, etc.]. Je suis constamment impressionné(e) par l'engagement de Google en matière d'innovation et par son leadership dans le développement d'applications web de pointe, centrées sur l'utilisateur. Je suis convaincu(e) que mes compétences et mon expérience correspondent parfaitement aux besoins de votre équipe.\n",
      "\n",
      "Depuis [Number] ans, je travaille en tant que Développeur Frontend, spécialisé(e) dans [Mention specific technologies and areas of expertise, e.g., React, Angular, Vue.js, JavaScript, HTML, CSS, responsive design, accessibility, performance optimization.  For example: React, JavaScript, HTML5, CSS3, et l'optimisation de la performance web]. Dans mon poste précédent chez [Previous Company Name], j'étais responsable de [Briefly describe 2-3 key responsibilities and accomplishments, quantifying them whenever possible. Examples: \"leading the development of a new user interface using React, resulting in a 20% increase in user engagement,\" or \"improving website performance by optimizing code and image loading, leading to a 15% reduction in page load time\". For example: \"la conception et le développement d'une nouvelle interface utilisateur avec React, ce qui a entraîné une augmentation de 20% de l'engagement des utilisateurs\", ou \"l'amélioration des performances du site web grâce à l'optimisation du code et du chargement des images, entraînant une réduction de 15% du temps de chargement des pages\"].\n",
      "\n",
      "Je suis particulièrement attiré(e) par le travail de Google sur [Mention specific Google products or projects that excite you and relate to your skills. This shows you've done your research and are genuinely interested. For example:  Google Maps et ses API, l'accessibilité web sur Chrome, ou l'utilisation de technologies web pour le développement d'Android]. Je pense que mon expérience en [Mention a relevant skill or technology. For example: développement d'interfaces utilisateur complexes avec React] serait un atout précieux pour contribuer à [Mention the specific area or product you're interested in contributing to. For example: l'amélioration de l'expérience utilisateur de Google Maps].\n",
      "\n",
      "Mon curriculum vitae, ci-joint, fournit plus de détails sur mes qualifications et réalisations. Je suis impatient(e) d'en savoir plus sur les opportunités de Développeur Frontend chez Google et de discuter de la façon dont mes compétences et ma passion pour la création d'expériences utilisateur exceptionnelles peuvent bénéficier à votre équipe.\n",
      "\n",
      "Je vous remercie de votre temps et de votre considération.  Dans l'attente de vous lire prochainement.\n",
      "\n",
      "Cordialement,\n",
      "\n",
      "[Your Name]\n",
      "\n",
      "[Your Phone Number]\n",
      "\n",
      "[Your Email Address]\n",
      "\n",
      "[Link to your LinkedIn Profile (Optional)]\n",
      "\n",
      "[Link to your Portfolio (Optional)]\n",
      "\n",
      "**Explanation of Key Changes & Considerations:**\n",
      "\n",
      "* **Objet (Subject):**  Direct translation, professional and informative.\n",
      "* **Cher(ère) équipe de recrutement Google:**  More formal and respectful opening.\n",
      "* **\"tels que ceux annoncés sur...\"**:  Keeps the phrasing natural in French.\n",
      "* **\"Je suis convaincu(e)\":**  Uses both masculine and feminine forms to be inclusive.  You can remove the \"(e)\" if you identify as male.\n",
      "* **\"spécialisé(e)\":** Same as above, using both masculine and feminine forms.\n",
      "* **Example Sentence Translations:**  Provides clear and compelling examples of how to translate your accomplishments.\n",
      "* **\"particulièrement attiré(e) par\":** Keeps the masculine and feminine agreement.\n",
      "* **\"Mon curriculum vitae, ci-joint\":** Standard way to say \"My resume, attached\" in French.\n",
      "* **\"Dans l'attente de vous lire prochainement\":**  A very common and polite closing phrase in French business correspondence.\n",
      "* **\"Cordialement\":**  The most common and appropriate closing for a professional email.\n",
      "\n",
      "**Important Reminders Before Sending:**\n",
      "\n",
      "* **Proofread Carefully!** Even with a translation, always have a native French speaker proofread your email.  Small errors can make a big difference.\n",
      "* **Adapt Examples:**  Make sure the examples you use in brackets are relevant to your actual experience and to Google's work.\n",
      "* **Research Google's Tech Stack:**  As you mentioned, researching the technologies Google uses is crucial.\n",
      "* **Tailor the Email:**  Don't just copy and paste this.  Make it your own voice!\n",
      "* **Consider a Referral:**  A referral is always a plus!\n",
      "\n",
      "Good luck with your application!\n"
     ]
    }
   ],
   "source": [
    "state_fr = EmailState(raw_input=\"i want to apply for frontend dev job at google\", target_language=\"French\")\n",
    "result_fr = app.invoke(state_fr)\n",
    "\n",
    "print(\"📧 Final Email (French):\\n\",result_fr['translated_email'])"
   ]
  },
  {
   "cell_type": "markdown",
   "id": "00f8515a",
   "metadata": {},
   "source": [
    "✅ Summary of What You Just Learned:\n",
    "\n",
    "| Component           | What It Represents            |\n",
    "| ------------------- | ----------------------------- |\n",
    "| `EmailState`        | Global shared memory          |\n",
    "| `clean_input`       | Preprocess user message       |\n",
    "| `generate_email`    | Core Gemini-powered response  |\n",
    "| `translate_output`  | Optional post-processing node |\n",
    "| `conditional_edges` | LangGraph's branching logic   |\n"
   ]
  }
 ],
 "metadata": {
  "kernelspec": {
   "display_name": "Python 3",
   "language": "python",
   "name": "python3"
  },
  "language_info": {
   "codemirror_mode": {
    "name": "ipython",
    "version": 3
   },
   "file_extension": ".py",
   "mimetype": "text/x-python",
   "name": "python",
   "nbconvert_exporter": "python",
   "pygments_lexer": "ipython3",
   "version": "3.11.9"
  }
 },
 "nbformat": 4,
 "nbformat_minor": 5
}
