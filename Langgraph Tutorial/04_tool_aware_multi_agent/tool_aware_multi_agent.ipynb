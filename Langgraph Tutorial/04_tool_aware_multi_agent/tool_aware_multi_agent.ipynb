{
 "cells": [
  {
   "cell_type": "markdown",
   "id": "7318b058",
   "metadata": {},
   "source": [
    "This is where LangGraph starts feeling like an actual AI OS — agents that use tools, reason independently, and collaborate through state.\n",
    "\n",
    "Real-World Use Case:\n",
    "“AI Research Assistant”\n",
    "Input: \"Compare the weather in Paris and Delhi and tell me if I need an umbrella in either city.\"\n",
    "\n",
    "- We’ll design:\n",
    "\n",
    "1. Planner Agent: decides what to do first (e.g., \"Search Paris Weather\")\n",
    "2. Weather Tool Agent: calls SerpAPI or dummy weather function\n",
    "3. Math Agent: does logic like \"if rain > 50%, then need umbrella\"\n",
    "4. LLM Agent: gives final natural language summary\n",
    "\n"
   ]
  },
  {
   "cell_type": "code",
   "execution_count": 24,
   "id": "149a15cb",
   "metadata": {},
   "outputs": [],
   "source": [
    "import os\n",
    "from dotenv import load_dotenv\n",
    "from langchain_google_genai import ChatGoogleGenerativeAI\n",
    "from langchain.agents import AgentType,initialize_agent,load_tools,Tool\n",
    "from langgraph.graph import StateGraph,END\n",
    "from pydantic import BaseModel\n",
    "from typing import Optional,Dict,Any\n"
   ]
  },
  {
   "cell_type": "code",
   "execution_count": 25,
   "id": "9b24d247",
   "metadata": {},
   "outputs": [],
   "source": [
    "\n",
    "load_dotenv()\n",
    "\n",
    "GOOGLE_API_KEY = os.getenv(\"GOOGLE_API_KEY\")\n",
    "SERP_API_KEY = os.getenv(\"SERP_API_KEY\")\n",
    "\n",
    "llm = ChatGoogleGenerativeAI(model=\"gemini-2.0-flash\", api_key=GOOGLE_API_KEY)\n",
    "# Load serpapi tool for weather queries\n",
    "tools = load_tools([\"serpapi\"], llm=llm, serpapi_api_key=SERP_API_KEY)\n",
    "serp_tool = tools[0]  # single tool from list"
   ]
  },
  {
   "cell_type": "markdown",
   "id": "230b8b86",
   "metadata": {},
   "source": [
    "Define The State"
   ]
  },
  {
   "cell_type": "code",
   "execution_count": 26,
   "id": "08410f3f",
   "metadata": {},
   "outputs": [],
   "source": [
    "class WeatherState(BaseModel):\n",
    "    user_input: str\n",
    "    plan: Optional[str] = None\n",
    "    weather_data: Optional[Dict[str,str]] = {}\n",
    "    logic_results: Optional[Dict[str,str]] = {}\n",
    "    final_response: Optional[str] = None\n",
    "    steps: list[str] = []"
   ]
  },
  {
   "cell_type": "markdown",
   "id": "6d293e59",
   "metadata": {},
   "source": [
    "Nodes Creation"
   ]
  },
  {
   "cell_type": "code",
   "execution_count": 27,
   "id": "8efee533",
   "metadata": {},
   "outputs": [],
   "source": [
    "# Planner Agent\n",
    "def planner_node(state:WeatherState) -> WeatherState:\n",
    "    state.plan = \"Fetch weather for Paris and Delhi\"\n",
    "    state.steps.append(\"Planner:Decided to get weather for Paris and Delhi\")\n",
    "    return state\n",
    "\n",
    "# Weather Agent using SerpAPI\n",
    "def weather_node(state:WeatherState) -> WeatherState:\n",
    "    cities = ['Paris','Delhi']\n",
    "    weather_results = {}\n",
    "    \n",
    "    for city in cities:\n",
    "        query = f\"Current weather in {city}\"\n",
    "        result = serp_tool.run(query)\n",
    "        weather_results[city] = result\n",
    "    \n",
    "    state.weather_data = weather_results\n",
    "    state.steps.append(\"WeatherAgent: Fetched weather using SerpAPI\")\n",
    "    return state\n",
    "\n",
    "# Math/Decision Agent\n",
    "import re\n",
    "\n",
    "def extract_rain_percentage(weather_text: str) -> int:\n",
    "    match = re.search(r\"(\\d{1,3})% chance of rain\", weather_text)\n",
    "    return int(match.group(1)) if match else 0\n",
    "\n",
    "def logic_node(state: WeatherState) -> WeatherState:\n",
    "    logic = {}\n",
    "    for city, report in state.weather_data.items():\n",
    "        rain_percent = extract_rain_percentage(report)\n",
    "        if rain_percent > 50:\n",
    "            logic[city] = f\"Yes, you should carry an umbrella in {city}.\"\n",
    "        else:\n",
    "            logic[city] = f\"No umbrella needed in {city}.\"\n",
    "    \n",
    "    state.logic_results = logic  # Corrected: logic_result -> logic_results\n",
    "    state.steps.append(\"MathAgent: Analyzed rain chance for each city.\")\n",
    "    return state\n",
    "\n",
    "# LLM summary agent\n",
    "def llm_node(state: WeatherState) -> WeatherState:\n",
    "    prompt = (\n",
    "        f\"User asked: '{state.user_input}'\\n\"\n",
    "        f\"Weather Info:\\n\"\n",
    "        f\"{state.weather_data}\\n\"\n",
    "        f\"Umbrella Advice:\\n\"\n",
    "        f\"{state.logic_results}\\n\"  # Corrected: logic_result -> logic_results\n",
    "        f\"Generate a helpful final response.\"\n",
    "    )\n",
    "    final_answer = llm.invoke(prompt).content\n",
    "    state.final_response = final_answer\n",
    "    state.steps.append(\"LLMAgent: Final summary generated.\")\n",
    "    return state\n"
   ]
  },
  {
   "cell_type": "markdown",
   "id": "ba0805b1",
   "metadata": {},
   "source": [
    "Graph Building"
   ]
  },
  {
   "cell_type": "code",
   "execution_count": 28,
   "id": "15ee2b16",
   "metadata": {},
   "outputs": [],
   "source": [
    "from langgraph.graph import StateGraph, END\n",
    "\n",
    "graph = StateGraph(state_schema=WeatherState)\n",
    "\n",
    "graph.add_node(\"planner\", planner_node)\n",
    "graph.add_node(\"weather\", weather_node)\n",
    "graph.add_node(\"logic\", logic_node)\n",
    "graph.add_node(\"llm\", llm_node)\n",
    "\n",
    "graph.set_entry_point(\"planner\")\n",
    "graph.add_edge(\"planner\", \"weather\")\n",
    "graph.add_edge(\"weather\", \"logic\")\n",
    "graph.add_edge(\"logic\", \"llm\")\n",
    "graph.add_edge(\"llm\", END)\n",
    "\n",
    "app = graph.compile()\n"
   ]
  },
  {
   "cell_type": "code",
   "execution_count": 31,
   "id": "4cfb5c28",
   "metadata": {},
   "outputs": [
    {
     "name": "stdout",
     "output_type": "stream",
     "text": [
      "\n",
      "✅ Final Answer:\n",
      "Okay, based on the weather forecast, here's my advice:\n",
      "\n",
      "*   **Paris, France:** It's 71°F and cloudy with no precipitation expected. **No umbrella needed in Paris.**\n",
      "*   **Delhi, India:** It's 93°F and clear with no precipitation expected. **No umbrella needed in Delhi.**\n",
      "\n",
      "So, wherever you are, you likely don't need an umbrella today.\n",
      "\n",
      "🪜 Agent Steps:\n",
      "- Planner:Decided to get weather for Paris and Delhi\n",
      "- WeatherAgent: Fetched weather using SerpAPI\n",
      "- MathAgent: Analyzed rain chance for each city.\n",
      "- LLMAgent: Final summary generated.\n"
     ]
    }
   ],
   "source": [
    "initial_state = WeatherState(user_input=\"Should I carry an umbrella today?\")\n",
    "final_state = app.invoke(initial_state)\n",
    "\n",
    "print(\"\\n✅ Final Answer:\")\n",
    "print(final_state['final_response'])\n",
    "\n",
    "print(\"\\n🪜 Agent Steps:\")\n",
    "for step in final_state['steps']:\n",
    "    print(\"-\", step)"
   ]
  }
 ],
 "metadata": {
  "kernelspec": {
   "display_name": "Python 3",
   "language": "python",
   "name": "python3"
  },
  "language_info": {
   "codemirror_mode": {
    "name": "ipython",
    "version": 3
   },
   "file_extension": ".py",
   "mimetype": "text/x-python",
   "name": "python",
   "nbconvert_exporter": "python",
   "pygments_lexer": "ipython3",
   "version": "3.11.9"
  }
 },
 "nbformat": 4,
 "nbformat_minor": 5
}
