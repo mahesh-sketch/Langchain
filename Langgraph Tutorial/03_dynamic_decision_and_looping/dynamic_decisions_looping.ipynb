{
 "cells": [
  {
   "cell_type": "markdown",
   "id": "8816f07c",
   "metadata": {},
   "source": [
    "Scenario:\n",
    "You're building an AI Assistant that:\n",
    "\n",
    "1. Writes a product pitch based on input.\n",
    "2. Shares it with the user for feedback.\n",
    "3. If feedback is not \"good\", the LLM will rewrite the pitch again.\n",
    "4. Loop continues until user says \"good\".\n",
    "5. Then, it ends the graph."
   ]
  },
  {
   "cell_type": "code",
   "execution_count": 1,
   "id": "a08cf5d2",
   "metadata": {},
   "outputs": [],
   "source": [
    "import os\n",
    "from dotenv import load_dotenv\n",
    "from langchain_google_genai import ChatGoogleGenerativeAI\n",
    "from langgraph.graph import StateGraph, END\n",
    "from pydantic import BaseModel\n",
    "from typing import Optional"
   ]
  },
  {
   "cell_type": "code",
   "execution_count": 2,
   "id": "95f559ef",
   "metadata": {},
   "outputs": [],
   "source": [
    "load_dotenv()\n",
    "GOOGLE_API_KEY = os.getenv(\"GOOGLE_API_KEY\")"
   ]
  },
  {
   "cell_type": "markdown",
   "id": "b39d3aed",
   "metadata": {},
   "source": [
    "State Model"
   ]
  },
  {
   "cell_type": "code",
   "execution_count": 3,
   "id": "888ef410",
   "metadata": {},
   "outputs": [],
   "source": [
    "class PitchState(BaseModel):\n",
    "    topic: str\n",
    "    pitch: Optional[str] = None\n",
    "    feedback: Optional[str] = None    "
   ]
  },
  {
   "cell_type": "markdown",
   "id": "45c155b3",
   "metadata": {},
   "source": [
    "Nodes creation"
   ]
  },
  {
   "cell_type": "code",
   "execution_count": 9,
   "id": "7140e3f9",
   "metadata": {},
   "outputs": [],
   "source": [
    "# Get pitch Node\n",
    "def get_pitch_node(state:PitchState):\n",
    "    llm = ChatGoogleGenerativeAI(model=\"gemini-2.0-flash\",api_key=GOOGLE_API_KEY)\n",
    "    prompt =  f\"Write a short product pitch about: {state.topic}\"\n",
    "    result = llm.invoke(prompt)\n",
    "    \n",
    "    updated = state.model_dump()\n",
    "    updated['pitch'] = result.content\n",
    "    return PitchState(**updated)\n",
    "\n",
    "# Get feedback Node\n",
    "def get_feedback_node(state:PitchState):\n",
    "    # Simulate user giving feedback\n",
    "    # In real-world this could be input() or a UI form\n",
    "    print(\"\\n📝 PITCH:\\n\", state.pitch)\n",
    "    feedback = input(\"Do you like this pitch? Type 'good' to accept or 'no' to regenerate: \").strip().lower()\n",
    "    \n",
    "    updated = state.model_dump()\n",
    "    updated['feedback'] = feedback\n",
    "    return PitchState(**updated)\n",
    "\n",
    "# Condition: Loop until feedback is 'good'\n",
    "\n",
    "def check_feedback(state:PitchState):\n",
    "    if state.feedback == \"good\":\n",
    "        return END\n",
    "    return \"get_pitch\""
   ]
  },
  {
   "cell_type": "markdown",
   "id": "a558edfa",
   "metadata": {},
   "source": [
    "Graph Structure"
   ]
  },
  {
   "cell_type": "code",
   "execution_count": 10,
   "id": "3b61c27a",
   "metadata": {},
   "outputs": [],
   "source": [
    "from langgraph.graph import StateGraph, END\n",
    "\n",
    "graph = StateGraph(state_schema=PitchState)\n",
    "graph.add_node(\"get_pitch\",get_pitch_node)\n",
    "graph.add_node(\"get_feedback\", get_feedback_node)\n",
    "\n",
    "graph.set_entry_point(\"get_pitch\")\n",
    "graph.add_edge(\"get_pitch\", \"get_feedback\")\n",
    "graph.add_conditional_edges(\"get_feedback\",check_feedback,{\n",
    "    END:END,\n",
    "    \"get_pitch\":\"get_pitch\"\n",
    "})\n",
    "\n",
    "app = graph.compile()"
   ]
  },
  {
   "cell_type": "code",
   "execution_count": 12,
   "id": "7df826a1",
   "metadata": {},
   "outputs": [
    {
     "name": "stdout",
     "output_type": "stream",
     "text": [
      "\n",
      "📝 PITCH:\n",
      " ## Tired of the Same Old Workout Routine? Meet AI-Powered Fitness!\n",
      "\n",
      "**Stop guessing, start achieving!** Introducing the revolutionary workout tracker that learns *you*. Our AI-powered app analyzes your performance, goals, and even your biometrics to create a personalized workout plan that evolves with you.\n",
      "\n",
      "**Here's what sets us apart:**\n",
      "\n",
      "* **Personalized Plans:** Ditch the generic routines. Our AI crafts workouts tailored to your specific needs and fitness level.\n",
      "* **Smart Progress Tracking:** We don't just count reps. We analyze your form, intensity, and recovery to provide actionable insights.\n",
      "* **Real-time Feedback:** Get instant guidance on your technique to prevent injuries and maximize your results.\n",
      "* **Motivation, Reimagined:** Our AI provides personalized encouragement and adjusts your plan based on your progress, keeping you engaged and motivated.\n",
      "\n",
      "**Stop wasting time and effort on workouts that don't work. Download our AI-powered fitness tracker today and unlock your true potential!**\n",
      "\n",
      "📝 PITCH:\n",
      " ## Tired of Workouts That Don't Work? Meet Your AI-Powered Fitness Revolution!\n",
      "\n",
      "Are you spinning your wheels at the gym, not seeing the results you want? Introducing the **AI-Powered Workout Tracker** - your personal fitness coach in your pocket!\n",
      "\n",
      "This isn't just another tracking app. We use cutting-edge AI to:\n",
      "\n",
      "* **Personalize your workouts:** Based on your goals, fitness level, and even your recovery, our AI creates a workout plan that's optimized for YOU.\n",
      "* **Provide real-time feedback:** Get instant insights on your form, pace, and intensity to maximize your gains and prevent injuries.\n",
      "* **Track your progress like never before:** See detailed data visualizations, identify trends, and stay motivated with personalized milestones.\n",
      "* **Adapt and evolve with you:** As you get stronger, the AI adjusts your plan to keep you challenged and progressing towards your goals.\n",
      "\n",
      "**Stop guessing, start achieving! Download the AI-Powered Workout Tracker today and unlock your fitness potential!**\n",
      "\n",
      "✅ Final Pitch:\n",
      " ## Tired of Workouts That Don't Work? Meet Your AI-Powered Fitness Revolution!\n",
      "\n",
      "Are you spinning your wheels at the gym, not seeing the results you want? Introducing the **AI-Powered Workout Tracker** - your personal fitness coach in your pocket!\n",
      "\n",
      "This isn't just another tracking app. We use cutting-edge AI to:\n",
      "\n",
      "* **Personalize your workouts:** Based on your goals, fitness level, and even your recovery, our AI creates a workout plan that's optimized for YOU.\n",
      "* **Provide real-time feedback:** Get instant insights on your form, pace, and intensity to maximize your gains and prevent injuries.\n",
      "* **Track your progress like never before:** See detailed data visualizations, identify trends, and stay motivated with personalized milestones.\n",
      "* **Adapt and evolve with you:** As you get stronger, the AI adjusts your plan to keep you challenged and progressing towards your goals.\n",
      "\n",
      "**Stop guessing, start achieving! Download the AI-Powered Workout Tracker today and unlock your fitness potential!**\n"
     ]
    }
   ],
   "source": [
    "initial_state = PitchState(topic=\"AI-powered workout tracker\")\n",
    "result = app.invoke(initial_state)\n",
    "print(\"\\n✅ Final Pitch:\\n\", result['pitch'])\n"
   ]
  }
 ],
 "metadata": {
  "kernelspec": {
   "display_name": "Python 3",
   "language": "python",
   "name": "python3"
  },
  "language_info": {
   "codemirror_mode": {
    "name": "ipython",
    "version": 3
   },
   "file_extension": ".py",
   "mimetype": "text/x-python",
   "name": "python",
   "nbconvert_exporter": "python",
   "pygments_lexer": "ipython3",
   "version": "3.11.9"
  }
 },
 "nbformat": 4,
 "nbformat_minor": 5
}
