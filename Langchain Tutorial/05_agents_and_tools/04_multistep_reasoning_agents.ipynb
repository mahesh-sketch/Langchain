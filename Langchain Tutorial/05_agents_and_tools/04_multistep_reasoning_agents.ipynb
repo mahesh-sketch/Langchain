{
 "cells": [
  {
   "cell_type": "markdown",
   "id": "312f4bfe",
   "metadata": {},
   "source": [
    "letting an agent reason step-by-step and use multiple tools in a sequence to solve complex problems."
   ]
  },
  {
   "cell_type": "code",
   "execution_count": 1,
   "id": "baed8d5e",
   "metadata": {},
   "outputs": [],
   "source": [
    "import os\n",
    "from dotenv import load_dotenv\n",
    "from langchain_google_genai import ChatGoogleGenerativeAI\n",
    "from langchain.agents import initialize_agent,load_tools\n",
    "from langchain_core.tools import Tool\n",
    "from langchain.agents.agent_types import AgentType"
   ]
  },
  {
   "cell_type": "code",
   "execution_count": 2,
   "id": "103ca3d9",
   "metadata": {},
   "outputs": [],
   "source": [
    "\n",
    "load_dotenv()\n",
    "\n",
    "GOOGLE_API_KEY = os.getenv(\"GOOGLE_API_KEY\")\n",
    "SERP_API_KEY = os.getenv(\"SERP_API_KEY\")\n",
    "\n",
    "llm = ChatGoogleGenerativeAI(model=\"gemini-2.0-flash\", api_key=GOOGLE_API_KEY)"
   ]
  },
  {
   "cell_type": "code",
   "execution_count": 4,
   "id": "4466d63c",
   "metadata": {},
   "outputs": [],
   "source": [
    "def weather_tools(temp_str : str) -> str:\n",
    "    temp = float(temp_str)\n",
    "    if temp > 30:\n",
    "        return \"It's hot! Wear light clothes and stay hydrated.\"\n",
    "    elif temp < 10:\n",
    "        return \"It's cold! Wear warm clothes.\"\n",
    "    else:\n",
    "        return \"The weather is pleasant today\""
   ]
  },
  {
   "cell_type": "code",
   "execution_count": 8,
   "id": "c9536edf",
   "metadata": {},
   "outputs": [],
   "source": [
    "custom_tools = [\n",
    "    Tool(\n",
    "        name=\"WeatherAdviceTool\",\n",
    "        func=weather_tools,\n",
    "        description=\"Gives clothing suggestions based on temperature in Celsius.\"\n",
    "    ),\n",
    "    load_tools(\n",
    "        [\"serpapi\"],\n",
    "        llm=llm,\n",
    "        serpapi_api_key=SERP_API_KEY\n",
    "    )\n",
    "]"
   ]
  },
  {
   "cell_type": "code",
   "execution_count": 9,
   "id": "cf049e2c",
   "metadata": {},
   "outputs": [],
   "source": [
    "# Flatten the custom_tools list if it contains nested lists\n",
    "flat_tools = []\n",
    "for t in custom_tools:\n",
    "    if isinstance(t, list):\n",
    "        flat_tools.extend(t)\n",
    "    else:\n",
    "        flat_tools.append(t)\n",
    "\n",
    "agents = initialize_agent(\n",
    "    llm=llm,\n",
    "    tools=flat_tools,\n",
    "    agent=AgentType.ZERO_SHOT_REACT_DESCRIPTION,\n",
    "    verbose=True\n",
    ")"
   ]
  },
  {
   "cell_type": "code",
   "execution_count": 10,
   "id": "3ce056cc",
   "metadata": {},
   "outputs": [
    {
     "name": "stderr",
     "output_type": "stream",
     "text": [
      "C:\\Users\\ASUS\\AppData\\Local\\Temp\\ipykernel_19136\\1368837131.py:2: LangChainDeprecationWarning: The method `Chain.run` was deprecated in langchain 0.1.0 and will be removed in 1.0. Use :meth:`~invoke` instead.\n",
      "  response = agents.run(query)\n"
     ]
    },
    {
     "name": "stdout",
     "output_type": "stream",
     "text": [
      "\n",
      "\n",
      "\u001b[1m> Entering new AgentExecutor chain...\u001b[0m\n",
      "\u001b[32;1m\u001b[1;3mI need to find the temperature in New York and then use that information to provide clothing suggestions.\n",
      "Action: Search\n",
      "Action Input: \"temperature in New York right now\"\u001b[0m\u001b[32;1m\u001b[1;3mI need to find the temperature in New York and then use that information to provide clothing suggestions.\n",
      "Action: Search\n",
      "Action Input: \"temperature in New York right now\"\u001b[0m\n",
      "Observation: \u001b[33;1m\u001b[1;3m{'type': 'weather_result', 'temperature': '58', 'unit': 'Fahrenheit', 'precipitation': '0%', 'humidity': '60%', 'wind': '11 mph', 'location': 'New York, NY', 'date': 'Monday 3:00 AM', 'weather': 'Clear with periodic clouds'}\u001b[0m\n",
      "Thought:\n",
      "Observation: \u001b[33;1m\u001b[1;3m{'type': 'weather_result', 'temperature': '58', 'unit': 'Fahrenheit', 'precipitation': '0%', 'humidity': '60%', 'wind': '11 mph', 'location': 'New York, NY', 'date': 'Monday 3:00 AM', 'weather': 'Clear with periodic clouds'}\u001b[0m\n",
      "Thought:\u001b[32;1m\u001b[1;3mI now have the temperature in Fahrenheit. I need to convert it to Celsius to use the WeatherAdviceTool.\n",
      "Action: Search\n",
      "Action Input: \"convert 58 fahrenheit to celsius\"\u001b[0m\u001b[32;1m\u001b[1;3mI now have the temperature in Fahrenheit. I need to convert it to Celsius to use the WeatherAdviceTool.\n",
      "Action: Search\n",
      "Action Input: \"convert 58 fahrenheit to celsius\"\u001b[0m\n",
      "Observation: \u001b[33;1m\u001b[1;3m{'type': 'unit_converter', 'unit_type': 'Temperature', 'formula': '(58°F − 32) × 5/9 = 14.444°C'}\u001b[0m\n",
      "Thought:\n",
      "Observation: \u001b[33;1m\u001b[1;3m{'type': 'unit_converter', 'unit_type': 'Temperature', 'formula': '(58°F − 32) × 5/9 = 14.444°C'}\u001b[0m\n",
      "Thought:\u001b[32;1m\u001b[1;3mI now know the temperature in Celsius is approximately 14.44 degrees. I can now use the WeatherAdviceTool to provide clothing suggestions.\n",
      "Action: WeatherAdviceTool\n",
      "Action Input: \"14.44\"\u001b[0m\n",
      "Observation: \u001b[36;1m\u001b[1;3mThe weather is pleasant today\u001b[0m\n",
      "Thought:\u001b[32;1m\u001b[1;3mI now know the temperature in Celsius is approximately 14.44 degrees. I can now use the WeatherAdviceTool to provide clothing suggestions.\n",
      "Action: WeatherAdviceTool\n",
      "Action Input: \"14.44\"\u001b[0m\n",
      "Observation: \u001b[36;1m\u001b[1;3mThe weather is pleasant today\u001b[0m\n",
      "Thought:\u001b[32;1m\u001b[1;3mI now know the temperature in New York is approximately 14.44 degrees Celsius and the weather is pleasant.\n",
      "Final Answer: The temperature in New York is approximately 14.44 degrees Celsius, and the weather is pleasant, so you should wear something comfortable.\u001b[0m\n",
      "\n",
      "\u001b[1m> Finished chain.\u001b[0m\n",
      "The temperature in New York is approximately 14.44 degrees Celsius, and the weather is pleasant, so you should wear something comfortable.\n",
      "\u001b[32;1m\u001b[1;3mI now know the temperature in New York is approximately 14.44 degrees Celsius and the weather is pleasant.\n",
      "Final Answer: The temperature in New York is approximately 14.44 degrees Celsius, and the weather is pleasant, so you should wear something comfortable.\u001b[0m\n",
      "\n",
      "\u001b[1m> Finished chain.\u001b[0m\n",
      "The temperature in New York is approximately 14.44 degrees Celsius, and the weather is pleasant, so you should wear something comfortable.\n"
     ]
    }
   ],
   "source": [
    "query = \"What's the temperature in New York right now and what should I wear?\"\n",
    "response = agents.run(query)\n",
    "print(response)"
   ]
  }
 ],
 "metadata": {
  "kernelspec": {
   "display_name": "Python 3",
   "language": "python",
   "name": "python3"
  },
  "language_info": {
   "codemirror_mode": {
    "name": "ipython",
    "version": 3
   },
   "file_extension": ".py",
   "mimetype": "text/x-python",
   "name": "python",
   "nbconvert_exporter": "python",
   "pygments_lexer": "ipython3",
   "version": "3.11.9"
  }
 },
 "nbformat": 4,
 "nbformat_minor": 5
}
