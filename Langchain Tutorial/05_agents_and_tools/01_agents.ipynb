{
 "cells": [
  {
   "cell_type": "markdown",
   "id": "e0f9f479",
   "metadata": {},
   "source": [
    "This is where LangChain becomes dynamic and powerful — letting LLMs decide what tools to use and take multi-step actions to solve complex tasks.\n",
    "\n",
    "1. What Are Agents?\n",
    "- LLMs that decide what to do next using tools and reasoning. (Agents = LLMs + Tools + Reasoning + Memory)\n",
    "\n",
    "2. Tool Usage\n",
    "- Use prebuilt tools like:\n",
    "- Search (SerpAPI)\n",
    "- Math (Calculator)\n",
    "- Python (code execution)\n",
    "- Custom APIs\n",
    "\n",
    "3. Custom Tool Creation\n",
    "Wrap your own functions as tools the agent can call.\n",
    "\n",
    "4. Multi-Step Reasoning Agent\n",
    "Agent that breaks a problem into steps and uses tools step-by-step like a smart assistant.\n",
    "\n",
    "Real-Life Analogy:\n",
    "Think of an agent like Jarvis (Iron Man):\n",
    "\n",
    "- It thinks for itself \n",
    "- It picks tools like a calculator, browser, or emailer \n",
    "- It answers \"How many days between Gandhi Jayanti and Diwali?\" by:\n",
    "   - Searching dates\n",
    "   - Calculating difference\n",
    "   - Replying with result\n",
    "\n",
    "LangChain Agent Types (just a few):\n",
    "\n",
    "| Agent Type                         | What It Does                                                 |\n",
    "| ---------------------------------- | ------------------------------------------------------------ |\n",
    "| `zero-shot-react-description`      | Thinks step-by-step and uses tool descriptions to choose one |\n",
    "| `conversational-react-description` | Same, but uses memory (for chatbots)                         |\n",
    "| `openai-functions`                 | Uses OpenAI's function-calling (powerful!)                   |\n",
    "| `plan-and-execute`                 | For longer tasks with planning                               |\n"
   ]
  },
  {
   "cell_type": "code",
   "execution_count": 1,
   "id": "4a7709f5",
   "metadata": {},
   "outputs": [],
   "source": [
    "import os\n",
    "from dotenv import load_dotenv\n",
    "from langchain_google_genai import ChatGoogleGenerativeAI\n",
    "from langchain.agents import initialize_agent,Tool\n",
    "from langchain.agents.agent_types import AgentType"
   ]
  },
  {
   "cell_type": "code",
   "execution_count": 2,
   "id": "bf0ec77f",
   "metadata": {},
   "outputs": [],
   "source": [
    "\n",
    "load_dotenv()\n",
    "\n",
    "GOOGLE_API_KEY = os.getenv(\"GOOGLE_API_KEY\")\n",
    "\n",
    "llm = ChatGoogleGenerativeAI(model=\"gemini-2.0-flash\",api_key=GOOGLE_API_KEY)\n"
   ]
  },
  {
   "cell_type": "markdown",
   "id": "a6e8db8d",
   "metadata": {},
   "source": [
    "Define the Tools"
   ]
  },
  {
   "cell_type": "code",
   "execution_count": 3,
   "id": "d3fe2d47",
   "metadata": {},
   "outputs": [],
   "source": [
    "def multiply_numbers(x:str) -> str:\n",
    "    nums = list(map(int,x.split()))\n",
    "    return str(nums[0] * nums[1])\n",
    "\n",
    "tools = [\n",
    "    Tool(\n",
    "        name = \"MultiplyTwoNumbers\",\n",
    "        func=multiply_numbers,\n",
    "        description=\"Multiplies two space-separated numbers\"\n",
    "    )\n",
    "]"
   ]
  },
  {
   "cell_type": "markdown",
   "id": "7afffccc",
   "metadata": {},
   "source": [
    "Initialize agent"
   ]
  },
  {
   "cell_type": "code",
   "execution_count": 4,
   "id": "86b72340",
   "metadata": {},
   "outputs": [
    {
     "name": "stderr",
     "output_type": "stream",
     "text": [
      "C:\\Users\\ASUS\\AppData\\Local\\Temp\\ipykernel_11556\\1669645428.py:1: LangChainDeprecationWarning: LangChain agents will continue to be supported, but it is recommended for new use cases to be built with LangGraph. LangGraph offers a more flexible and full-featured framework for building agents, including support for tool-calling, persistence of state, and human-in-the-loop workflows. For details, refer to the `LangGraph documentation <https://langchain-ai.github.io/langgraph/>`_ as well as guides for `Migrating from AgentExecutor <https://python.langchain.com/docs/how_to/migrate_agent/>`_ and LangGraph's `Pre-built ReAct agent <https://langchain-ai.github.io/langgraph/how-tos/create-react-agent/>`_.\n",
      "  agent = initialize_agent(\n"
     ]
    }
   ],
   "source": [
    "agent = initialize_agent(\n",
    "    tools,\n",
    "    llm,\n",
    "    agent=AgentType.ZERO_SHOT_REACT_DESCRIPTION,\n",
    "    verbose = True\n",
    ")"
   ]
  },
  {
   "cell_type": "code",
   "execution_count": 5,
   "id": "898b1913",
   "metadata": {},
   "outputs": [
    {
     "name": "stderr",
     "output_type": "stream",
     "text": [
      "C:\\Users\\ASUS\\AppData\\Local\\Temp\\ipykernel_11556\\693663651.py:1: LangChainDeprecationWarning: The method `Chain.run` was deprecated in langchain 0.1.0 and will be removed in 1.0. Use :meth:`~invoke` instead.\n",
      "  agent.run(\"What's 8 multiplied by 7?\")\n"
     ]
    },
    {
     "name": "stdout",
     "output_type": "stream",
     "text": [
      "\n",
      "\n",
      "\u001b[1m> Entering new AgentExecutor chain...\u001b[0m\n",
      "\u001b[32;1m\u001b[1;3mI need to multiply 8 and 7.\n",
      "Action: MultiplyTwoNumbers\n",
      "Action Input: 8 7\u001b[0m\n",
      "Observation: \u001b[36;1m\u001b[1;3m56\u001b[0m\n",
      "Thought:\u001b[32;1m\u001b[1;3mI now know the final answer\n",
      "Final Answer: 56\u001b[0m\n",
      "\n",
      "\u001b[1m> Finished chain.\u001b[0m\n"
     ]
    },
    {
     "data": {
      "text/plain": [
       "'56'"
      ]
     },
     "execution_count": 5,
     "metadata": {},
     "output_type": "execute_result"
    }
   ],
   "source": [
    "agent.run(\"What's 8 multiplied by 7?\")"
   ]
  },
  {
   "cell_type": "markdown",
   "id": "d23fad73",
   "metadata": {},
   "source": [
    "Internal Working:\n",
    "It does:\n",
    " - LLM gets your question\n",
    " - Thinks: \"What tool should I use?\"\n",
    " - Uses the tool with correct input\n",
    " - Observes result\n",
    " - Responds\n",
    "\n",
    "Just like a human assistant!"
   ]
  }
 ],
 "metadata": {
  "kernelspec": {
   "display_name": "Python 3",
   "language": "python",
   "name": "python3"
  },
  "language_info": {
   "codemirror_mode": {
    "name": "ipython",
    "version": 3
   },
   "file_extension": ".py",
   "mimetype": "text/x-python",
   "name": "python",
   "nbconvert_exporter": "python",
   "pygments_lexer": "ipython3",
   "version": "3.11.9"
  }
 },
 "nbformat": 4,
 "nbformat_minor": 5
}
