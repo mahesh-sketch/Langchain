{
 "cells": [
  {
   "cell_type": "code",
   "execution_count": 10,
   "id": "d882a8f1",
   "metadata": {},
   "outputs": [],
   "source": [
    "import os\n",
    "from dotenv import load_dotenv\n",
    "from langchain_google_genai import ChatGoogleGenerativeAI\n",
    "from langchain.agents import initialize_agent,Tool\n",
    "from langchain.agents.agent_types import AgentType"
   ]
  },
  {
   "cell_type": "code",
   "execution_count": 11,
   "id": "094ab94c",
   "metadata": {},
   "outputs": [],
   "source": [
    "\n",
    "load_dotenv()\n",
    "\n",
    "GOOGLE_API_KEY = os.getenv(\"GOOGLE_API_KEY\")\n",
    "SERP_API_KEY = os.getenv(\"SERP_API_KEY\")\n",
    "\n",
    "llm = ChatGoogleGenerativeAI(model=\"gemini-2.0-flash\", api_key=GOOGLE_API_KEY)"
   ]
  },
  {
   "cell_type": "markdown",
   "id": "f28e5d70",
   "metadata": {},
   "source": [
    " Define a Custom Function"
   ]
  },
  {
   "cell_type": "code",
   "execution_count": 12,
   "id": "952eac7a",
   "metadata": {},
   "outputs": [],
   "source": [
    "def weather_advice(temp_str : str) -> str:\n",
    "    temp = float(temp_str)\n",
    "    if temp > 30:\n",
    "        return \"It's hot! Wear light clothes and stay hydrated.\"\n",
    "    elif temp < 10:\n",
    "        return \"It's cold! Wear warm clothes.\"\n",
    "    else:\n",
    "        return \"The weather is pleasant today\"\n",
    "    "
   ]
  },
  {
   "cell_type": "markdown",
   "id": "ab6018d2",
   "metadata": {},
   "source": [
    "Convert It into a Tool"
   ]
  },
  {
   "cell_type": "code",
   "execution_count": 13,
   "id": "89494f75",
   "metadata": {},
   "outputs": [],
   "source": [
    "weather_tool = Tool(\n",
    "    name = \"WatherAdviceTool\",\n",
    "    func=weather_advice,\n",
    "    description= \"Gives clothing suggestions based on temperature in Celsius.\"\n",
    ")"
   ]
  },
  {
   "cell_type": "markdown",
   "id": "bb997e5a",
   "metadata": {},
   "source": [
    "Load into Agent"
   ]
  },
  {
   "cell_type": "code",
   "execution_count": 14,
   "id": "ea481ca7",
   "metadata": {},
   "outputs": [],
   "source": [
    "agents = initialize_agent(\n",
    "    tools=[weather_tool],\n",
    "    llm=llm,\n",
    "    agent= AgentType.ZERO_SHOT_REACT_DESCRIPTION,\n",
    "    verbose = True\n",
    ")"
   ]
  },
  {
   "cell_type": "code",
   "execution_count": 15,
   "id": "7fd0fdd6",
   "metadata": {},
   "outputs": [
    {
     "name": "stdout",
     "output_type": "stream",
     "text": [
      "\n",
      "\n",
      "\u001b[1m> Entering new AgentExecutor chain...\u001b[0m\n",
      "\u001b[32;1m\u001b[1;3mI need to get clothing advice based on the temperature.\n",
      "Action: WatherAdviceTool\n",
      "Action Input: 35\u001b[0m\n",
      "Observation: \u001b[36;1m\u001b[1;3mIt's hot! Wear light clothes and stay hydrated.\u001b[0m\n",
      "Thought:\u001b[32;1m\u001b[1;3mI have the clothing advice.\n",
      "Final Answer: It's hot! Wear light clothes and stay hydrated.\u001b[0m\n",
      "\n",
      "\u001b[1m> Finished chain.\u001b[0m\n",
      "It's hot! Wear light clothes and stay hydrated.\n"
     ]
    }
   ],
   "source": [
    "response = agents.run(\"The temperature is 35. What should I wear?\")\n",
    "print(response)"
   ]
  },
  {
   "cell_type": "markdown",
   "id": "eb46db4c",
   "metadata": {},
   "source": [
    "You can define any Python function as a tool — connecting databases, APIs, file systems, calculations, etc."
   ]
  }
 ],
 "metadata": {
  "kernelspec": {
   "display_name": "Python 3",
   "language": "python",
   "name": "python3"
  },
  "language_info": {
   "codemirror_mode": {
    "name": "ipython",
    "version": 3
   },
   "file_extension": ".py",
   "mimetype": "text/x-python",
   "name": "python",
   "nbconvert_exporter": "python",
   "pygments_lexer": "ipython3",
   "version": "3.11.9"
  }
 },
 "nbformat": 4,
 "nbformat_minor": 5
}
