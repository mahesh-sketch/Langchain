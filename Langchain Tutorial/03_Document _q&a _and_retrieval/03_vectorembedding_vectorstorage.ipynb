{
 "cells": [
  {
   "cell_type": "code",
   "execution_count": 2,
   "id": "aafd7534",
   "metadata": {},
   "outputs": [],
   "source": [
    "import os\n",
    "from dotenv import load_dotenv\n",
    "from langchain.text_splitter import RecursiveCharacterTextSplitter\n",
    "from langchain.document_loaders import WebBaseLoader\n",
    "from langchain_google_genai import ChatGoogleGenerativeAI\n"
   ]
  },
  {
   "cell_type": "markdown",
   "id": "90e7d372",
   "metadata": {},
   "source": [
    "Load gemini llm model and wikipedia document loader"
   ]
  },
  {
   "cell_type": "code",
   "execution_count": 7,
   "id": "fffd4d81",
   "metadata": {},
   "outputs": [],
   "source": [
    "load_dotenv()\n",
    "\n",
    "GOOGLE_API_KEY = os.getenv(\"GOOGLE_API_KEY\")\n",
    "\n",
    "llm = ChatGoogleGenerativeAI(model=\"gemini-2.0-flash\",api_key=GOOGLE_API_KEY)\n",
    "\n",
    "url = \"https://en.wikipedia.org/wiki/Artificial_intelligence\"\n",
    "loader = WebBaseLoader(url)\n",
    "documents = loader.load()"
   ]
  },
  {
   "cell_type": "markdown",
   "id": "60a1a5da",
   "metadata": {},
   "source": [
    "Chunk the large wikipedia document"
   ]
  },
  {
   "cell_type": "code",
   "execution_count": 13,
   "id": "dfa5690e",
   "metadata": {},
   "outputs": [],
   "source": [
    "text_splitter = RecursiveCharacterTextSplitter(\n",
    "    chunk_size = 500,\n",
    "    chunk_overlap = 100\n",
    ")\n",
    "docs = text_splitter.split_documents(documents)"
   ]
  },
  {
   "cell_type": "markdown",
   "id": "3cfc9d44",
   "metadata": {},
   "source": [
    "Use hugging face local embedding (gemini didnot provide embedding)"
   ]
  },
  {
   "cell_type": "code",
   "execution_count": 15,
   "id": "c1c03c1a",
   "metadata": {},
   "outputs": [],
   "source": [
    "from langchain.embeddings import HuggingFaceBgeEmbeddings\n",
    "\n",
    "embedding_model = HuggingFaceBgeEmbeddings(\n",
    "    model_name = 'sentence-transformers/all-MiniLM-L6-v2'\n",
    ")"
   ]
  },
  {
   "cell_type": "markdown",
   "id": "42ac0e65",
   "metadata": {},
   "source": [
    "Store Embeddings in a vector store (FAISS)"
   ]
  },
  {
   "cell_type": "code",
   "execution_count": 21,
   "id": "86010f49",
   "metadata": {},
   "outputs": [],
   "source": [
    "from langchain.vectorstores import FAISS\n",
    "\n",
    "vectorstore = FAISS.from_documents(docs, embedding_model)\n",
    "\n",
    "# Optional: Save for reuse later\n",
    "vectorstore.save_local(\"faiss_index\")"
   ]
  },
  {
   "cell_type": "markdown",
   "id": "3abf2439",
   "metadata": {},
   "source": [
    "Search (Semantic Search)"
   ]
  },
  {
   "cell_type": "code",
   "execution_count": 24,
   "id": "8f4d71c9",
   "metadata": {},
   "outputs": [
    {
     "name": "stdout",
     "output_type": "stream",
     "text": [
      "------ MATCHED CHUNK ------\n",
      "^ Colton, Emma (7 May 2023). \"'Father of AI' says tech fears misplaced: 'You cannot stop it'\". Fox News. Archived from the original on 26 May 2023. Retrieved 26 May 2023.\n",
      "\n",
      "^ Jones, Hessie (23 May 2023). \"Juergen Schmidhuber, Renowned 'Father Of Modern AI,' Says His Life's Work Won't Lead To Dystopia\". Forbes. Archived from the original on 26 May 2023. Retrieved 26 May 2023.\n",
      "------ MATCHED CHUNK ------\n",
      "Halpern, Sue, \"The Coming Tech Autocracy\" (review of Verity Harding, AI Needs You: How We Can Change AI's Future and Save Our Own, Princeton University Press, 274 pp.; Gary Marcus, Taming Silicon Valley: How We Can Ensure That AI Works for Us, MIT Press, 235 pp.; Daniela Rus and Gregory Mone, The Mind's Mirror: Risk and Reward in the Age of AI, Norton, 280 pp.; Madhumita Murgia, Code Dependent: Living in the Shadow of AI, Henry Holt, 311 pp.), The New York Review of Books, vol. LXXI, no. 17 (7\n",
      "------ MATCHED CHUNK ------\n",
      "McCarthy, John (2007), \"From Here to Human-Level AI\", Artificial Intelligence, p. 171\n",
      "McCarthy, John (1999), What is AI?, archived from the original on 4 December 2022, retrieved 4 December 2022\n",
      "McCauley, Lee (2007). \"AI armageddon and the three laws of robotics\". Ethics and Information Technology. 9 (2): 153–164. CiteSeerX 10.1.1.85.8904. doi:10.1007/s10676-007-9138-2. S2CID 37272949.\n"
     ]
    }
   ],
   "source": [
    "query = \"Who is considered the father of AI?\"\n",
    "results = vectorstore.similarity_search(query,k=3)\n",
    "\n",
    "for r in results:\n",
    "    print(\"------ MATCHED CHUNK ------\")\n",
    "    print(r.page_content)"
   ]
  }
 ],
 "metadata": {
  "kernelspec": {
   "display_name": "Python 3",
   "language": "python",
   "name": "python3"
  },
  "language_info": {
   "codemirror_mode": {
    "name": "ipython",
    "version": 3
   },
   "file_extension": ".py",
   "mimetype": "text/x-python",
   "name": "python",
   "nbconvert_exporter": "python",
   "pygments_lexer": "ipython3",
   "version": "3.11.9"
  }
 },
 "nbformat": 4,
 "nbformat_minor": 5
}
