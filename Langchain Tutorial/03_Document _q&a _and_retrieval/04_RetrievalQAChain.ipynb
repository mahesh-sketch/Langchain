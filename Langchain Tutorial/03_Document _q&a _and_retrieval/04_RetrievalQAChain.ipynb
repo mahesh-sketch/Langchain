{
 "cells": [
  {
   "cell_type": "markdown",
   "id": "9280d616",
   "metadata": {},
   "source": [
    "This is where semantic search meets LLMs — the core power of LangChain!\n",
    "\n",
    "What is RetrievalQAChain?\n",
    "\n",
    "- It is a pre-built chain in LangChain that:\n",
    "- Searches relevant documents using a retriever (like your FAISS vectorstore).\n",
    "- Passes those documents (context) to an LLM (like GPT-4).\n",
    "- Generates an answer to your question, based only on the retrieved docs.\n",
    "\n",
    "Why use it?\n",
    "Without RetrievalQAChain, you’d do:\n",
    "\n",
    "- vectorstore.similarity_search(query)\n",
    "- then manually feed that into GPT-4 for answering.\n",
    "\n",
    "But RetrievalQAChain automates all of this!\n",
    "\n"
   ]
  },
  {
   "cell_type": "code",
   "execution_count": 1,
   "id": "3ee6f820",
   "metadata": {},
   "outputs": [
    {
     "name": "stderr",
     "output_type": "stream",
     "text": [
      "USER_AGENT environment variable not set, consider setting it to identify your requests.\n"
     ]
    }
   ],
   "source": [
    "import os \n",
    "from dotenv import load_dotenv\n",
    "\n",
    "# Gemini LLM\n",
    "from langchain_google_genai import ChatGoogleGenerativeAI\n",
    "\n",
    "# Document Loader \n",
    "from langchain.document_loaders import WebBaseLoader\n",
    "\n",
    "# Chunking data\n",
    "from langchain.text_splitter import RecursiveCharacterTextSplitter\n",
    "\n",
    "# Huggingface embedding\n",
    "from langchain.embeddings import HuggingFaceBgeEmbeddings\n",
    "\n",
    "# Vector database for storing the embedding vector\n",
    "from langchain.vectorstores import FAISS\n",
    "\n",
    "# Retrieveal QA for semantic search with LLM\n",
    "from langchain.chains import RetrievalQA"
   ]
  },
  {
   "cell_type": "code",
   "execution_count": 2,
   "id": "a9517e2c",
   "metadata": {},
   "outputs": [],
   "source": [
    "load_dotenv()\n",
    "\n",
    "GOOGLE_API_KEY = os.getenv(\"GOOGLE_API_KEY\")\n",
    "\n",
    "llm = ChatGoogleGenerativeAI(model=\"gemini-2.0-flash\",api_key=GOOGLE_API_KEY)\n",
    "\n",
    "url = \"https://en.wikipedia.org/wiki/Artificial_intelligence\"\n",
    "loader = WebBaseLoader(url)\n",
    "documents = loader.load()"
   ]
  },
  {
   "cell_type": "code",
   "execution_count": 3,
   "id": "4700bb56",
   "metadata": {},
   "outputs": [],
   "source": [
    "text_splitter = RecursiveCharacterTextSplitter(chunk_size=500, chunk_overlap=50)\n",
    "docs = text_splitter.split_documents(documents)"
   ]
  },
  {
   "cell_type": "code",
   "execution_count": 4,
   "id": "ae976501",
   "metadata": {},
   "outputs": [
    {
     "name": "stderr",
     "output_type": "stream",
     "text": [
      "C:\\Users\\ASUS\\AppData\\Local\\Temp\\ipykernel_5160\\1158660859.py:1: LangChainDeprecationWarning: The class `HuggingFaceBgeEmbeddings` was deprecated in LangChain 0.2.2 and will be removed in 1.0. An updated version of the class exists in the :class:`~langchain-huggingface package and should be used instead. To use it run `pip install -U :class:`~langchain-huggingface` and import as `from :class:`~langchain_huggingface import HuggingFaceEmbeddings``.\n",
      "  embeddings = HuggingFaceBgeEmbeddings(\n",
      "c:\\Users\\ASUS\\AppData\\Local\\Programs\\Python\\Python311\\Lib\\site-packages\\tqdm\\auto.py:21: TqdmWarning: IProgress not found. Please update jupyter and ipywidgets. See https://ipywidgets.readthedocs.io/en/stable/user_install.html\n",
      "  from .autonotebook import tqdm as notebook_tqdm\n",
      "W0518 21:07:04.440000 5160 site-packages\\torch\\distributed\\elastic\\multiprocessing\\redirects.py:29] NOTE: Redirects are currently not supported in Windows or MacOs.\n"
     ]
    },
    {
     "name": "stdout",
     "output_type": "stream",
     "text": [
      "WARNING:tensorflow:From c:\\Users\\ASUS\\AppData\\Local\\Programs\\Python\\Python311\\Lib\\site-packages\\tf_keras\\src\\losses.py:2976: The name tf.losses.sparse_softmax_cross_entropy is deprecated. Please use tf.compat.v1.losses.sparse_softmax_cross_entropy instead.\n",
      "\n"
     ]
    }
   ],
   "source": [
    "embeddings = HuggingFaceBgeEmbeddings(\n",
    "    model_name = 'sentence-transformers/all-MiniLM-L6-v2'\n",
    ")\n",
    "\n",
    "vectorstore = FAISS.from_documents(docs, embeddings)"
   ]
  },
  {
   "cell_type": "code",
   "execution_count": 6,
   "id": "23282bd0",
   "metadata": {},
   "outputs": [],
   "source": [
    "# Create retriever\n",
    "retriver = vectorstore.as_retriever(search_kwargs={\"k\":3})\n"
   ]
  },
  {
   "cell_type": "code",
   "execution_count": 8,
   "id": "43911784",
   "metadata": {},
   "outputs": [],
   "source": [
    "# Create RetrievalQAChain\n",
    "qa_chain = RetrievalQA.from_chain_type(\n",
    "    llm=llm,\n",
    "    retriever=retriver,\n",
    "    return_source_documents=True\n",
    ")"
   ]
  },
  {
   "cell_type": "code",
   "execution_count": 9,
   "id": "284087c7",
   "metadata": {},
   "outputs": [
    {
     "name": "stderr",
     "output_type": "stream",
     "text": [
      "C:\\Users\\ASUS\\AppData\\Local\\Temp\\ipykernel_5160\\2295864586.py:2: LangChainDeprecationWarning: The method `Chain.__call__` was deprecated in langchain 0.1.0 and will be removed in 1.0. Use :meth:`~invoke` instead.\n",
      "  result = qa_chain(query)\n"
     ]
    },
    {
     "name": "stdout",
     "output_type": "stream",
     "text": [
      "🧠 Answer:\n",
      " Juergen Schmidhuber is considered the \"Father of Modern AI\".\n",
      "\n",
      "📚 Source Chunks:\n",
      "\n",
      "---\n",
      "^ Colton, Emma (7 May 2023). \"'Father of AI' says tech fears misplaced: 'You cannot stop it'\". Fox News. Archived from the original on 26 May 2023. Retrieved 26 May 2023.\n",
      "\n",
      "^ Jones, Hessie (23 May 2023). \"Juergen Schmidhuber, Renowned 'Father Of Modern AI,' Says His Life's Work Won't Lead To Dystopia ...\n",
      "\n",
      "---\n",
      "and on having a \"feel\" for the situation, rather than explicit symbolic knowledge.[395] Although his arguments had been ridiculed and ignored when they were first presented, eventually, AI research came to agree with him.[ab][16] ...\n",
      "\n",
      "---\n",
      "Halpern, Sue, \"The Coming Tech Autocracy\" (review of Verity Harding, AI Needs You: How We Can Change AI's Future and Save Our Own, Princeton University Press, 274 pp.; Gary Marcus, Taming Silicon Valley: How We Can Ensure That AI Works for Us, MIT Press, 235 pp.; Daniela Rus and Gregory Mone, The Mi ...\n"
     ]
    }
   ],
   "source": [
    "query = \"Who is considered the father of AI?\"\n",
    "result = qa_chain(query)\n",
    "\n",
    "print(\"🧠 Answer:\\n\", result[\"result\"])\n",
    "print(\"\\n📚 Source Chunks:\")\n",
    "for doc in result[\"source_documents\"]:\n",
    "    print(\"\\n---\")\n",
    "    print(doc.page_content[:300], \"...\")  # preview only\n"
   ]
  }
 ],
 "metadata": {
  "kernelspec": {
   "display_name": "Python 3",
   "language": "python",
   "name": "python3"
  },
  "language_info": {
   "codemirror_mode": {
    "name": "ipython",
    "version": 3
   },
   "file_extension": ".py",
   "mimetype": "text/x-python",
   "name": "python",
   "nbconvert_exporter": "python",
   "pygments_lexer": "ipython3",
   "version": "3.11.9"
  }
 },
 "nbformat": 4,
 "nbformat_minor": 5
}
