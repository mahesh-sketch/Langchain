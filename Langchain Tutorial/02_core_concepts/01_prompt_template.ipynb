{
 "cells": [
  {
   "cell_type": "markdown",
   "id": "ab6b2a0a",
   "metadata": {},
   "source": [
    "A Prompt Template is like a reusable sentence with placeholders that you can fill dynamically. It helps you standardize your input to LLMs.\n",
    "\n",
    "Real-life Example:\n",
    "Imagine you're running a real estate website. You want to automatically generate property descriptions based on dynamic input like city, price, and features.\n",
    "\n",
    "Generate a description like this:\n",
    "\n",
    "“This stunning 3 BHK apartment in Bangalore is available for just ₹65 Lakhs. Features include modular kitchen, balcony view, and covered parking.”"
   ]
  },
  {
   "cell_type": "code",
   "execution_count": 1,
   "id": "8116ec7f",
   "metadata": {},
   "outputs": [],
   "source": [
    "import os\n",
    "from dotenv import load_dotenv\n",
    "from langchain_google_genai import ChatGoogleGenerativeAI\n",
    "from langchain.prompts import PromptTemplate\n"
   ]
  },
  {
   "cell_type": "code",
   "execution_count": 2,
   "id": "c9a01647",
   "metadata": {},
   "outputs": [
    {
     "name": "stdout",
     "output_type": "stream",
     "text": [
      "\n",
      "You are a real estate assistant.\n",
      "Create an attractive description for a house in Bangalore,\n",
      "priced at ₹65 Lakhs, with features: modular kitchen,balcony view,covered parking.\n",
      "\n"
     ]
    }
   ],
   "source": [
    "# Step 1: Create the template\n",
    "template = \"\"\"\n",
    "You are a real estate assistant.\n",
    "Create an attractive description for a house in {city},\n",
    "priced at {price}, with features: {features}.\n",
    "\"\"\"\n",
    "# Step 2: Create PromptTemplate object\n",
    "prompt = PromptTemplate(\n",
    "    input_variables=['city','price','features'],\n",
    "    template=template\n",
    ")\n",
    "\n",
    "# Step 3: Format the prompt with actual data\n",
    "final_prompt = prompt.format(\n",
    "    city=\"Bangalore\",\n",
    "    price=\"₹65 Lakhs\",\n",
    "    features=\"modular kitchen,balcony view,covered parking\"\n",
    ")\n",
    "\n",
    "print(final_prompt)\n"
   ]
  }
 ],
 "metadata": {
  "kernelspec": {
   "display_name": "Python 3",
   "language": "python",
   "name": "python3"
  },
  "language_info": {
   "codemirror_mode": {
    "name": "ipython",
    "version": 3
   },
   "file_extension": ".py",
   "mimetype": "text/x-python",
   "name": "python",
   "nbconvert_exporter": "python",
   "pygments_lexer": "ipython3",
   "version": "3.11.9"
  }
 },
 "nbformat": 4,
 "nbformat_minor": 5
}
